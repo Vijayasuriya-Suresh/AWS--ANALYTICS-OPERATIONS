{
 "cells": [
  {
   "cell_type": "markdown",
   "id": "bd465f87",
   "metadata": {},
   "source": [
    "# Leveraging Python and MongoDB for Efficient Data Management\n",
    "\n",
    "Introduction\n",
    "In today’s data-driven world, the ability to efficiently store, retrieve, and manipulate data is crucial for any software application. MongoDB, a popular NoSQL database, offers flexibility and scalability, making it an excellent choice for applications that require rapid growth and the handling of diverse data types. Python, known for its simplicity and robust libraries, complements MongoDB perfectly through the pymongo library, allowing developers to perform database operations effectively. This guide provides a detailed overview of how to use Python and MongoDB together to handle common database tasks. We will explore how to establish a connection to a MongoDB database, perform basic and advanced queries, and manage database transactions efficiently.\n",
    "\n",
    "Detailed Explanation\n",
    "Setting up the MongoDB Connection\n",
    "The first step in interacting with MongoDB using Python is to set up a connection using the pymongo library. This involves:\n",
    "\n",
    "Installation: Ensure pymongo is installed via pip (pip install pymongo).\n",
    "Connection String: Create a connection string that includes the username, password, and the cluster URL. This string is crucial for authenticating and connecting to the MongoDB server.\n",
    "MongoClient: Initialize the MongoClient object with the connection string. This object is the gateway to interacting with the database.\n",
    "python\n",
    "Copy code\n",
    "import pymongo\n",
    "\n",
    "# Credentials and connection details\n",
    "username = \"your_username\"\n",
    "password = \"your_password\"\n",
    "cluster_url = \"cluster0.example.mongodb.net\"\n",
    "\n",
    "# Connection string\n",
    "connection_string = f\"mongodb+srv://{username}:{password}@{cluster_url}/?retryWrites=true&w=majority\"\n",
    "\n",
    "# Connect to MongoDB\n",
    "client = pymongo.MongoClient(connection_string)\n",
    "Accessing Databases and Collections\n",
    "Once connected, you can access specific databases and collections:\n",
    "\n",
    "Database Access: Use the client object to access a database. For example, db = client.your_database_name.\n",
    "Collection Access: Access a collection from the database using collection = db.your_collection_name.\n",
    "Basic Operations\n",
    "Basic CRUD (Create, Read, Update, Delete) operations are fundamental:\n",
    "\n",
    "Create: Insert documents using collection.insert_one() or collection.insert_many().\n",
    "Read: Retrieve documents using collection.find_one() or collection.find().\n",
    "Update: Modify documents using collection.update_one() or collection.update_many().\n",
    "Delete: Remove documents using collection.delete_one() or collection.delete_many().\n",
    "Advanced Queries\n",
    "For more complex data interactions, MongoDB offers powerful querying capabilities:\n",
    "\n",
    "Aggregation: Use collection.aggregate() for complex data processing like calculating averages or summarizing data.\n",
    "Indexes: Improve performance of queries by creating indexes on collections.\n",
    "Date Queries: Handle date and time effectively using Python’s datetime module for queries involving time ranges.\n",
    "Managing Database Statistics\n",
    "Understanding the scale and statistics of your database can help optimize performance:\n",
    "\n",
    "Document Count: Use db.command(\"collStats\", \"collection_name\") to get the number of documents in a collection.\n",
    "Database Size: Check the total size of the database using db.command('dbStats').\n",
    "\n",
    "\n",
    "Combining Python’s ease of use with MongoDB’s flexibility offers a powerful toolset for modern developers. By mastering these techniques, you can efficiently manage vast amounts of data and perform complex data operations, paving the way for building scalable and efficient applications. Whether you are handling millions of records or just a few, the Python-MongoDB combination is an invaluable skill in your developer toolkit."
   ]
  },
  {
   "cell_type": "code",
   "execution_count": null,
   "id": "369cfcd9",
   "metadata": {},
   "outputs": [],
   "source": [
    "import pymongo\n",
    "\n",
    "# Set the connection details\n",
    "username = \"\"\n",
    "password = \"\"\n",
    "cluster_name = \"name.mongodb.net\"\n",
    "database_name = \"your_database_name\"\n",
    "\n",
    "# Create the MongoDB connection string\n",
    "connection_string = f\"mongodb+srv://{username}:{password}@{cluster_name}/{database_name}?retryWrites=true&w=majority\"\n",
    "\n",
    "# Create a new MongoClient and connect to the server\n",
    "client = pymongo.MongoClient(connection_string)\n",
    "\n",
    "# Access a specific database\n",
    "db = client.your_database_name\n",
    "\n",
    "# Access a specific collection within the database\n",
    "collection = db.your_collection_name\n",
    "\n",
    "# Perform operations on the collection\n",
    "# For example, insert a document\n",
    "document = {\"name\": \"John\", \"age\": 30}\n",
    "collection.insert_one(document)\n",
    "\n",
    "# Close the connection\n",
    "client.close()"
   ]
  },
  {
   "cell_type": "markdown",
   "id": "b4831c36",
   "metadata": {},
   "source": [
    "### Part II. Querying your MongoDB Instance from Python\n",
    "Now briefly profile the dataset. Provide a response to the following:\n",
    "\n",
    "How many documents are in the dataset?\n"
   ]
  },
  {
   "cell_type": "code",
   "execution_count": 2,
   "id": "f41018e8",
   "metadata": {},
   "outputs": [
    {
     "name": "stdout",
     "output_type": "stream",
     "text": [
      "5555\n"
     ]
    }
   ],
   "source": [
    "# Select database and collection\n",
    "database_name = \"sample_airbnb\"\n",
    "collection_name = \"listingsAndReviews\"\n",
    "\n",
    "# Access the database and collection\n",
    "db = client[database_name]\n",
    "collection = db[collection_name]\n",
    "\n",
    "# Count the documents in the collection\n",
    "count = db.command(\"collStats\", collection_name)[\"count\"]\n",
    "\n",
    "# Print the count of documents\n",
    "print(count)\n"
   ]
  },
  {
   "cell_type": "markdown",
   "id": "bcab1ece",
   "metadata": {},
   "source": [
    " What is the average size of the documents?"
   ]
  },
  {
   "cell_type": "code",
   "execution_count": 3,
   "id": "9a914c89",
   "metadata": {},
   "outputs": [
    {
     "name": "stdout",
     "output_type": "stream",
     "text": [
      "Average document size: 16986.89306930693 bytes\n"
     ]
    }
   ],
   "source": [
    "# Define the aggregation pipeline\n",
    "pipeline = [\n",
    "    { '$group': { '_id': None, 'avg_size': { '$avg': { '$bsonSize': '$$ROOT' } } } }\n",
    "]\n",
    "\n",
    "# Execute the aggregation pipeline and retrieve the result\n",
    "result = list(collection.aggregate(pipeline))\n",
    "\n",
    "# Check if there is a result\n",
    "if result:\n",
    "    # Retrieve the first document from the result and print the average document size\n",
    "    avg_size = result[0]['avg_size']\n",
    "    print('Average document size:', avg_size, 'bytes')\n",
    "else:\n",
    "    print('No result found')"
   ]
  },
  {
   "cell_type": "markdown",
   "id": "f3060da5",
   "metadata": {},
   "source": [
    " What is the size of the database?"
   ]
  },
  {
   "cell_type": "code",
   "execution_count": 4,
   "id": "80ec7fec",
   "metadata": {},
   "outputs": [
    {
     "name": "stdout",
     "output_type": "stream",
     "text": [
      "Size of the database: 54460416 bytes\n"
     ]
    }
   ],
   "source": [
    "# Calculate and print the size of the database in bytes\n",
    "db_stats = db.command('dbStats')\n",
    "print('Size of the database:', db_stats['storageSize'], 'bytes')"
   ]
  },
  {
   "cell_type": "markdown",
   "id": "43a7069b",
   "metadata": {},
   "source": [
    "# Now run queries to answer the following:\n",
    "\n",
    "How many listings were reviewed on 2016-01-31 in the listingsAndReviews collection?"
   ]
  },
  {
   "cell_type": "code",
   "execution_count": 11,
   "id": "311c186a",
   "metadata": {},
   "outputs": [
    {
     "name": "stdout",
     "output_type": "stream",
     "text": [
      "There is 1 that were reviewed on 2016-01-31 in the listingsAndReviews collection\n"
     ]
    }
   ],
   "source": [
    "import datetime\n",
    "\n",
    "# Define the collection\n",
    "collection = db['listingsAndReviews']\n",
    "\n",
    "# Set the start and end date for the review search\n",
    "start_date = datetime.datetime(2016, 1, 30, 0, 0, 0)\n",
    "end_date = datetime.datetime(2016, 1, 31, 23, 59, 59)\n",
    "\n",
    "# Define the query\n",
    "query = {\n",
    "    \"last_review\": {\n",
    "        \"$gt\": start_date,\n",
    "        \"$lte\": end_date\n",
    "    }\n",
    "}\n",
    "\n",
    "# Execute the find operation and count the number of documents matching the query\n",
    "count_reviewed = collection.count_documents(query)\n",
    "\n",
    "# Print the result\n",
    "print(f\"There are {count_reviewed} listings that were reviewed on 2016-01-31 in the listingsAndReviews collection\")\n"
   ]
  },
  {
   "cell_type": "markdown",
   "id": "d1c37c02",
   "metadata": {},
   "source": [
    " What is the property_type of the _id =’10084023’?"
   ]
  },
  {
   "cell_type": "code",
   "execution_count": 12,
   "id": "50ab744c",
   "metadata": {},
   "outputs": [
    {
     "name": "stdout",
     "output_type": "stream",
     "text": [
      "{'property_type': 'Guesthouse'}\n"
     ]
    }
   ],
   "source": [
    "result_filter = collection.find_one({'_id':\"10084023\"},{'property_type':1,'_id':0})\n",
    "print(result_filter)"
   ]
  },
  {
   "cell_type": "markdown",
   "id": "5775cf3f",
   "metadata": {},
   "source": [
    "How many listings have a property_type = ‘house’?"
   ]
  },
  {
   "cell_type": "code",
   "execution_count": 13,
   "id": "81e15cad",
   "metadata": {},
   "outputs": [
    {
     "data": {
      "text/plain": [
       "606"
      ]
     },
     "execution_count": 13,
     "metadata": {},
     "output_type": "execute_result"
    }
   ],
   "source": [
    "# Define the collection\n",
    "collection = db['listingsAndReviews']\n",
    "\n",
    "# Define the query\n",
    "query = {'property_type': 'House'}\n",
    "\n",
    "# Execute the find operation and count the number of documents matching the query\n",
    "count = sum(1 for _ in collection.find(query))\n",
    "\n",
    "# Print the result\n",
    "print(f\"There are {count} documents with property_type 'House' in the listings And Reviews collection\")"
   ]
  }
 ],
 "metadata": {
  "kernelspec": {
   "display_name": "Python 3 (ipykernel)",
   "language": "python",
   "name": "python3"
  },
  "language_info": {
   "codemirror_mode": {
    "name": "ipython",
    "version": 3
   },
   "file_extension": ".py",
   "mimetype": "text/x-python",
   "name": "python",
   "nbconvert_exporter": "python",
   "pygments_lexer": "ipython3",
   "version": "3.11.5"
  }
 },
 "nbformat": 4,
 "nbformat_minor": 5
}
